{
  "nbformat": 4,
  "nbformat_minor": 0,
  "metadata": {
    "colab": {
      "provenance": [],
      "authorship_tag": "ABX9TyOu/qsuuhlRGIUjTDWQI1z0",
      "include_colab_link": true
    },
    "kernelspec": {
      "name": "python3",
      "display_name": "Python 3"
    },
    "language_info": {
      "name": "python"
    }
  },
  "cells": [
    {
      "cell_type": "markdown",
      "metadata": {
        "id": "view-in-github",
        "colab_type": "text"
      },
      "source": [
        "<a href=\"https://colab.research.google.com/github/NicollyeCrist/Python/blob/main/Aula05Listasela%C3%A7os_python.ipynb\" target=\"_parent\"><img src=\"https://colab.research.google.com/assets/colab-badge.svg\" alt=\"Open In Colab\"/></a>"
      ]
    },
    {
      "cell_type": "code",
      "execution_count": 6,
      "metadata": {
        "colab": {
          "base_uri": "https://localhost:8080/"
        },
        "id": "HRR96F9DsF4y",
        "outputId": "c1477757-0005-487a-c565-47fd542d3fd3"
      },
      "outputs": [
        {
          "output_type": "execute_result",
          "data": {
            "text/plain": [
              "[0, 1, 2, 3, 4, 5, 6, 7, 8, 9, 10, 11, 12, 13, 14]"
            ]
          },
          "metadata": {},
          "execution_count": 6
        }
      ],
      "source": [
        "#Criar uma lista com números de 1 a 15\n",
        "numeros = []\n",
        "for num in range(15):\n",
        "  numeros.append(num)\n",
        "\n",
        "numeros"
      ]
    },
    {
      "cell_type": "code",
      "source": [
        "#Para usar a biblioteca Random, é preciso importá-la\n",
        "import random\n",
        "\n",
        "#Criar uma lista com tamanho aleatório (entre 0 e 50)\n",
        "nums2 = []\n",
        "for num in range(random.randrange(0, 50)):\n",
        "  nums2.append(num)\n",
        "\n",
        "nums2"
      ],
      "metadata": {
        "colab": {
          "base_uri": "https://localhost:8080/"
        },
        "id": "-Nz_jCG8wOo_",
        "outputId": "3443e85b-7c24-462e-d032-0ddd7f7f95fc"
      },
      "execution_count": 11,
      "outputs": [
        {
          "output_type": "execute_result",
          "data": {
            "text/plain": [
              "[0, 1, 2, 3, 4, 5, 6, 7, 8, 9]"
            ]
          },
          "metadata": {},
          "execution_count": 11
        }
      ]
    },
    {
      "cell_type": "code",
      "source": [
        "#(Parentesis)Descobrir se um número é par\n",
        "a = int(input('Digite um número! '))\n",
        "if a%2 == 0:\n",
        "  print('É par!')\n",
        "else:\n",
        "  print('É impar!')"
      ],
      "metadata": {
        "colab": {
          "base_uri": "https://localhost:8080/"
        },
        "id": "V0bRdvglyVnL",
        "outputId": "949e7bed-16cd-486f-efd8-613b4ebff7d1"
      },
      "execution_count": 14,
      "outputs": [
        {
          "output_type": "stream",
          "name": "stdout",
          "text": [
            "Digite um número! 7\n",
            "É impar!\n"
          ]
        }
      ]
    },
    {
      "cell_type": "code",
      "source": [
        "#Printar números pares positivos de 0 a 50\n",
        "nums3 = []\n",
        "for num in range(51): \n",
        " if(num % 2 == 0):\n",
        "  nums3.append(num)\n",
        "nums3"
      ],
      "metadata": {
        "colab": {
          "base_uri": "https://localhost:8080/"
        },
        "id": "tjEnk3Aa0oMg",
        "outputId": "82afd327-a7d3-4c4f-acef-33eddaf03fbc"
      },
      "execution_count": 16,
      "outputs": [
        {
          "output_type": "execute_result",
          "data": {
            "text/plain": [
              "[0,\n",
              " 2,\n",
              " 4,\n",
              " 6,\n",
              " 8,\n",
              " 10,\n",
              " 12,\n",
              " 14,\n",
              " 16,\n",
              " 18,\n",
              " 20,\n",
              " 22,\n",
              " 24,\n",
              " 26,\n",
              " 28,\n",
              " 30,\n",
              " 32,\n",
              " 34,\n",
              " 36,\n",
              " 38,\n",
              " 40,\n",
              " 42,\n",
              " 44,\n",
              " 46,\n",
              " 48,\n",
              " 50]"
            ]
          },
          "metadata": {},
          "execution_count": 16
        }
      ]
    },
    {
      "cell_type": "code",
      "source": [
        "#Retorne a soma dos números de 1 a 100\n",
        "soma = 0\n",
        "\n",
        "for num in range(101):\n",
        "  soma = soma+num\n",
        "\n",
        "soma"
      ],
      "metadata": {
        "colab": {
          "base_uri": "https://localhost:8080/"
        },
        "id": "VcY53zxJ3boQ",
        "outputId": "a614496a-0e97-49b3-9e87-9e2107b13068"
      },
      "execution_count": 23,
      "outputs": [
        {
          "output_type": "execute_result",
          "data": {
            "text/plain": [
              "5050"
            ]
          },
          "metadata": {},
          "execution_count": 23
        }
      ]
    },
    {
      "cell_type": "code",
      "source": [
        "#Laços While\n",
        "#Criar um programa que lista os números de 1 a 10\n",
        "##Precisa-se de um contador!\n",
        "cont = 0\n",
        "while (cont < 10):\n",
        " print(cont +1)\n",
        " cont+=1"
      ],
      "metadata": {
        "colab": {
          "base_uri": "https://localhost:8080/"
        },
        "id": "CJdqu-le8Ua6",
        "outputId": "2dd98023-5694-4798-cec3-1bf132218d72"
      },
      "execution_count": 24,
      "outputs": [
        {
          "output_type": "stream",
          "name": "stdout",
          "text": [
            "1\n",
            "2\n",
            "3\n",
            "4\n",
            "5\n",
            "6\n",
            "7\n",
            "8\n",
            "9\n",
            "10\n"
          ]
        }
      ]
    },
    {
      "cell_type": "code",
      "source": [
        "#Pede ao usuário para inserir um número inteiro maior que 1 \n",
        "#O programa deve imprimir todos os números até o número digitado\n",
        "cont = 0\n",
        "numero = int(input('Digite um número '))\n",
        "while (cont <= numero):\n",
        "  print(cont)\n",
        "  cont+=1"
      ],
      "metadata": {
        "colab": {
          "base_uri": "https://localhost:8080/"
        },
        "id": "6jvsNJa--INz",
        "outputId": "90847a18-c84c-42fb-ea00-313225809c5b"
      },
      "execution_count": 25,
      "outputs": [
        {
          "output_type": "stream",
          "name": "stdout",
          "text": [
            "Digite um número 8\n",
            "0\n",
            "1\n",
            "2\n",
            "3\n",
            "4\n",
            "5\n",
            "6\n",
            "7\n",
            "8\n"
          ]
        }
      ]
    },
    {
      "cell_type": "code",
      "source": [
        "#Cria uma lista de compras, encerra caso digite 0.\n",
        "comprasLista = []\n",
        "\n",
        "item = input('Digite o item: ')\n",
        "\n",
        "while (item != '0'):\n",
        "  comprasLista.append(item)\n",
        "  item = input('Digite o item: ')\n",
        "\n",
        "comprasLista"
      ],
      "metadata": {
        "id": "vXjKnPFZCaib"
      },
      "execution_count": null,
      "outputs": []
    }
  ]
}