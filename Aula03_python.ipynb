{
  "nbformat": 4,
  "nbformat_minor": 0,
  "metadata": {
    "colab": {
      "provenance": [],
      "authorship_tag": "ABX9TyPg7QrcDSJVcV3hG+jeRgSi",
      "include_colab_link": true
    },
    "kernelspec": {
      "name": "python3",
      "display_name": "Python 3"
    },
    "language_info": {
      "name": "python"
    }
  },
  "cells": [
    {
      "cell_type": "markdown",
      "metadata": {
        "id": "view-in-github",
        "colab_type": "text"
      },
      "source": [
        "<a href=\"https://colab.research.google.com/github/NicollyeCrist/Python/blob/main/Aula03_python.ipynb\" target=\"_parent\"><img src=\"https://colab.research.google.com/assets/colab-badge.svg\" alt=\"Open In Colab\"/></a>"
      ]
    },
    {
      "cell_type": "code",
      "execution_count": 1,
      "metadata": {
        "colab": {
          "base_uri": "https://localhost:8080/"
        },
        "id": "WsfUVYY_oOeo",
        "outputId": "52afdef3-fb6d-4493-e607-61948fcc0d2a"
      },
      "outputs": [
        {
          "output_type": "stream",
          "name": "stdout",
          "text": [
            "True\n",
            "True\n",
            "False\n",
            "True\n",
            "False\n",
            "True\n"
          ]
        }
      ],
      "source": [
        "#tipos boleanoas\n",
        "print(100 == (50+50)) #igualdade\n",
        "print(100 >= (50+50))\n",
        "print(100 > (50+50))\n",
        "print(100 <= (50+50))\n",
        "print(100 != (50+50))\n",
        "print(100 != 99)"
      ]
    },
    {
      "cell_type": "code",
      "source": [
        "# Se a Idade for maior ou igual a 16, exiba: Pode tirar habilitação\n",
        "idade = int(input('Digite a idade'))\n",
        "if(idade >= 16):\n",
        "  print('Pode tirar habilitação')\n",
        "else:\n",
        "  print('Ainda não, filé')"
      ],
      "metadata": {
        "colab": {
          "base_uri": "https://localhost:8080/"
        },
        "id": "Lnik1ML5p9hj",
        "outputId": "ca9fe41c-9913-48f3-b2cd-9756f2fbf388"
      },
      "execution_count": 8,
      "outputs": [
        {
          "output_type": "stream",
          "name": "stdout",
          "text": [
            "Digite a idade17\n",
            "Pode tirar habilitação\n"
          ]
        }
      ]
    },
    {
      "cell_type": "code",
      "source": [
        "#Se for do sexo feminino \"F\", e tiver 55 anos ou mais, pode se aposentar\n",
        "#Se for do sexo masculino \"M\", só se aposenta com 60 anos ou mais\n",
        "sexo = 'M'\n",
        "idade = 68\n",
        "if(sexo == 'F' and idade >=55):\n",
        "  print('Pode se aposentar')\n",
        "elif(sexo == 'M'and idade >=60):\n",
        "  print('Pode se aposentar')\n",
        "else:\n",
        "  print('Ainda não pode')"
      ],
      "metadata": {
        "colab": {
          "base_uri": "https://localhost:8080/"
        },
        "id": "9yHioVUYrBEr",
        "outputId": "972c558f-9d3f-49ff-dd28-f220f904aaf3"
      },
      "execution_count": 9,
      "outputs": [
        {
          "output_type": "stream",
          "name": "stdout",
          "text": [
            "Pode se aposentar\n"
          ]
        }
      ]
    },
    {
      "cell_type": "code",
      "source": [
        "#Versão II\n",
        "sexo = (input('Insira o sexo, m (masculino) ou f (feminino):'))\n",
        "idade = int(input('Insira a idade:'))\n",
        "if((sexo == 'f' and idade >=55) or (sexo == 'm'and idade >=60)):\n",
        "  print('Pode se aposentar')\n",
        "else:\n",
        "  print('Ainda não pode')"
      ],
      "metadata": {
        "id": "gq5cFUYxvJCg"
      },
      "execution_count": null,
      "outputs": []
    },
    {
      "cell_type": "code",
      "source": [
        "#solicite três números A, B e C.\n",
        "#Imprima na tela se A+B é menor que C\n",
        "a = int(input('Digite o primeiro num:'))\n",
        "b = int(input('Digite o segundo num:'))\n",
        "c = int(input('Digite o terceiro num:'))\n",
        "if(a+b < c):\n",
        "  print('é menor')\n",
        "else:\n",
        "  print('Não é menor')"
      ],
      "metadata": {
        "id": "fYvfEjV_wGwd"
      },
      "execution_count": null,
      "outputs": []
    },
    {
      "cell_type": "code",
      "source": [
        "#Faça um algoritmo que recebe 3 números inteiros e mostra-os em ordem decrescente.\n",
        "a = int(input('Esse número é maior:'))\n",
        "b = int(input('Esse número é médio:'))\n",
        "c = int(input('Esse número é menor:'))\n",
        "if(a+b)"
      ],
      "metadata": {
        "id": "ZscobOZk0kcW"
      },
      "execution_count": null,
      "outputs": []
    }
  ]
}