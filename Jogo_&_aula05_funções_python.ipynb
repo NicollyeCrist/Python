{
  "nbformat": 4,
  "nbformat_minor": 0,
  "metadata": {
    "colab": {
      "provenance": [],
      "authorship_tag": "ABX9TyOh40pwSGSjLfkC78CMS0A4",
      "include_colab_link": true
    },
    "kernelspec": {
      "name": "python3",
      "display_name": "Python 3"
    },
    "language_info": {
      "name": "python"
    }
  },
  "cells": [
    {
      "cell_type": "markdown",
      "metadata": {
        "id": "view-in-github",
        "colab_type": "text"
      },
      "source": [
        "<a href=\"https://colab.research.google.com/github/NicollyeCrist/Python/blob/main/Jogo_%26_aula05_fun%C3%A7%C3%B5es_python.ipynb\" target=\"_parent\"><img src=\"https://colab.research.google.com/assets/colab-badge.svg\" alt=\"Open In Colab\"/></a>"
      ]
    },
    {
      "cell_type": "code",
      "execution_count": null,
      "metadata": {
        "colab": {
          "base_uri": "https://localhost:8080/",
          "height": 380
        },
        "id": "SR_X6Dbvs7MT",
        "outputId": "03780a6c-132a-4f98-a050-7eb7e601844b"
      },
      "outputs": [
        {
          "output_type": "error",
          "ename": "KeyboardInterrupt",
          "evalue": "ignored",
          "traceback": [
            "\u001b[0;31m---------------------------------------------------------------------------\u001b[0m",
            "\u001b[0;31mKeyboardInterrupt\u001b[0m                         Traceback (most recent call last)",
            "\u001b[0;32m<ipython-input-8-77a4e665d88e>\u001b[0m in \u001b[0;36m<cell line: 6>\u001b[0;34m()\u001b[0m\n\u001b[1;32m      4\u001b[0m \u001b[0mminimo\u001b[0m \u001b[0;34m=\u001b[0m \u001b[0;36m0\u001b[0m\u001b[0;34m\u001b[0m\u001b[0;34m\u001b[0m\u001b[0m\n\u001b[1;32m      5\u001b[0m \u001b[0mmaximo\u001b[0m \u001b[0;34m=\u001b[0m \u001b[0;36m100\u001b[0m\u001b[0;34m\u001b[0m\u001b[0;34m\u001b[0m\u001b[0m\n\u001b[0;32m----> 6\u001b[0;31m \u001b[0mpitaco\u001b[0m \u001b[0;34m=\u001b[0m \u001b[0mint\u001b[0m\u001b[0;34m(\u001b[0m\u001b[0minput\u001b[0m\u001b[0;34m(\u001b[0m\u001b[0;34mf'Chute um número entre {minimo} e {maximo} '\u001b[0m\u001b[0;34m)\u001b[0m\u001b[0;34m)\u001b[0m\u001b[0;34m\u001b[0m\u001b[0;34m\u001b[0m\u001b[0m\n\u001b[0m\u001b[1;32m      7\u001b[0m \u001b[0mcont\u001b[0m \u001b[0;34m=\u001b[0m \u001b[0;36m1\u001b[0m\u001b[0;34m\u001b[0m\u001b[0;34m\u001b[0m\u001b[0m\n\u001b[1;32m      8\u001b[0m \u001b[0;34m\u001b[0m\u001b[0m\n",
            "\u001b[0;32m/usr/local/lib/python3.9/dist-packages/ipykernel/kernelbase.py\u001b[0m in \u001b[0;36mraw_input\u001b[0;34m(self, prompt)\u001b[0m\n\u001b[1;32m    849\u001b[0m                 \u001b[0;34m\"raw_input was called, but this frontend does not support input requests.\"\u001b[0m\u001b[0;34m\u001b[0m\u001b[0;34m\u001b[0m\u001b[0m\n\u001b[1;32m    850\u001b[0m             )\n\u001b[0;32m--> 851\u001b[0;31m         return self._input_request(str(prompt),\n\u001b[0m\u001b[1;32m    852\u001b[0m             \u001b[0mself\u001b[0m\u001b[0;34m.\u001b[0m\u001b[0m_parent_ident\u001b[0m\u001b[0;34m,\u001b[0m\u001b[0;34m\u001b[0m\u001b[0;34m\u001b[0m\u001b[0m\n\u001b[1;32m    853\u001b[0m             \u001b[0mself\u001b[0m\u001b[0;34m.\u001b[0m\u001b[0m_parent_header\u001b[0m\u001b[0;34m,\u001b[0m\u001b[0;34m\u001b[0m\u001b[0;34m\u001b[0m\u001b[0m\n",
            "\u001b[0;32m/usr/local/lib/python3.9/dist-packages/ipykernel/kernelbase.py\u001b[0m in \u001b[0;36m_input_request\u001b[0;34m(self, prompt, ident, parent, password)\u001b[0m\n\u001b[1;32m    893\u001b[0m             \u001b[0;32mexcept\u001b[0m \u001b[0mKeyboardInterrupt\u001b[0m\u001b[0;34m:\u001b[0m\u001b[0;34m\u001b[0m\u001b[0;34m\u001b[0m\u001b[0m\n\u001b[1;32m    894\u001b[0m                 \u001b[0;31m# re-raise KeyboardInterrupt, to truncate traceback\u001b[0m\u001b[0;34m\u001b[0m\u001b[0;34m\u001b[0m\u001b[0m\n\u001b[0;32m--> 895\u001b[0;31m                 \u001b[0;32mraise\u001b[0m \u001b[0mKeyboardInterrupt\u001b[0m\u001b[0;34m(\u001b[0m\u001b[0;34m\"Interrupted by user\"\u001b[0m\u001b[0;34m)\u001b[0m \u001b[0;32mfrom\u001b[0m \u001b[0;32mNone\u001b[0m\u001b[0;34m\u001b[0m\u001b[0;34m\u001b[0m\u001b[0m\n\u001b[0m\u001b[1;32m    896\u001b[0m             \u001b[0;32mexcept\u001b[0m \u001b[0mException\u001b[0m \u001b[0;32mas\u001b[0m \u001b[0me\u001b[0m\u001b[0;34m:\u001b[0m\u001b[0;34m\u001b[0m\u001b[0;34m\u001b[0m\u001b[0m\n\u001b[1;32m    897\u001b[0m                 \u001b[0mself\u001b[0m\u001b[0;34m.\u001b[0m\u001b[0mlog\u001b[0m\u001b[0;34m.\u001b[0m\u001b[0mwarning\u001b[0m\u001b[0;34m(\u001b[0m\u001b[0;34m\"Invalid Message:\"\u001b[0m\u001b[0;34m,\u001b[0m \u001b[0mexc_info\u001b[0m\u001b[0;34m=\u001b[0m\u001b[0;32mTrue\u001b[0m\u001b[0;34m)\u001b[0m\u001b[0;34m\u001b[0m\u001b[0;34m\u001b[0m\u001b[0m\n",
            "\u001b[0;31mKeyboardInterrupt\u001b[0m: Interrupted by user"
          ]
        }
      ],
      "source": [
        "import random\n",
        "\n",
        "num = random.randrange(101)\n",
        "minimo = 0\n",
        "maximo = 100\n",
        "pitaco = int(input(f'Chute um número entre {minimo} e {maximo} '))\n",
        "cont = 1\n",
        "\n",
        "while(num != pitaco):\n",
        "  if(pitaco > num):\n",
        "    maximo = pitaco\n",
        "  else:\n",
        "    minimo = pitaco\n",
        "  pitaco = int(input(f'Chute um número entre {minimo} e {maximo}:')) \n",
        "  cont+=1\n",
        "\n",
        "print(f'ACERTOU, MIZERAVE! {cont} tentativas!')"
      ]
    },
    {
      "cell_type": "code",
      "source": [
        "#Declaração da função\n",
        "def primeiraFuncao():\n",
        "  print('Minha primeira função, ó!')\n",
        "#Chamand a função\n",
        "primeiraFuncao()"
      ],
      "metadata": {
        "colab": {
          "base_uri": "https://localhost:8080/"
        },
        "id": "AnCSJdeA1RB6",
        "outputId": "1014d5b5-21d3-41de-fe50-6f67f2b1a546"
      },
      "execution_count": null,
      "outputs": [
        {
          "output_type": "stream",
          "name": "stdout",
          "text": [
            "Minha primeira função, ó!\n"
          ]
        }
      ]
    },
    {
      "cell_type": "code",
      "source": [
        "#parâmetros ( )\n",
        "def pronomeTratam(pronome):\n",
        "  print(pronome,\"Pablo\")\n",
        "\n",
        "pronomeTratam('Doutor')\n",
        "pronomeTratam('Ilmo')\n",
        "pronomeTratam('Seu')\n",
        "pronomeTratam('')"
      ],
      "metadata": {
        "colab": {
          "base_uri": "https://localhost:8080/"
        },
        "id": "lAQ0GYyl4VMK",
        "outputId": "fe0cfc1c-9209-4ab6-ec83-b49c466643a5"
      },
      "execution_count": null,
      "outputs": [
        {
          "output_type": "stream",
          "name": "stdout",
          "text": [
            "Doutor Pablo\n",
            "Ilmo Pablo\n",
            "Seu Pablo\n",
            " Pablo\n"
          ]
        }
      ]
    },
    {
      "cell_type": "code",
      "source": [
        "#Uma função deve ser chamda com o número certinho\n",
        "def boasVindas(nome,cargo):\n",
        "  print(f'olá, {cargo} {nome}')\n",
        "\n",
        "boasVindas('Amaralina','Engenheira')\n",
        "boasVindas('Jorge','Carimbador')\n",
        "boasVindas('Maria','Sargento')\n",
        "#Experimente passar apenas um dos parâmetros "
      ],
      "metadata": {
        "colab": {
          "base_uri": "https://localhost:8080/"
        },
        "id": "lu2R-wo-50ME",
        "outputId": "17df3649-30e1-445f-a725-78f548eb60f4"
      },
      "execution_count": null,
      "outputs": [
        {
          "output_type": "stream",
          "name": "stdout",
          "text": [
            "olá, Engenheira Amaralina\n",
            "olá, Carimbador Jorge\n",
            "olá, Sargento Maria\n"
          ]
        }
      ]
    },
    {
      "cell_type": "code",
      "source": [
        "def media(*notas):\n",
        "  soma = 0\n",
        "  for nota in notas:\n",
        "    soma += nota\n",
        "  print(soma / len(notas)) \n",
        "\n",
        "media(8, 5, 3, 7, 2, 10)\n"
      ],
      "metadata": {
        "colab": {
          "base_uri": "https://localhost:8080/"
        },
        "id": "v9r5s9Aa7cgq",
        "outputId": "2cfadb5a-30ba-43ff-f98a-de8a9d86db67"
      },
      "execution_count": null,
      "outputs": [
        {
          "output_type": "stream",
          "name": "stdout",
          "text": [
            "5.833333333333333\n"
          ]
        }
      ]
    },
    {
      "cell_type": "code",
      "source": [
        "#Valor de parâmetro padrão\n",
        "def nacionalidade(country = 'Cuba'):\n",
        "  print(f'Eu nasci em: {country}')\n",
        "\n",
        "nacionalidade('Brasil')\n",
        "nacionalidade('França')\n",
        "nacionalidade('Vietnã')\n",
        "nacionalidade()"
      ],
      "metadata": {
        "colab": {
          "base_uri": "https://localhost:8080/"
        },
        "id": "JzKlj5JQAWrR",
        "outputId": "0fa47cd8-4952-4af5-9526-893e786e2fda"
      },
      "execution_count": null,
      "outputs": [
        {
          "output_type": "stream",
          "name": "stdout",
          "text": [
            "Eu nasci em: Brasil\n",
            "Eu nasci em: França\n",
            "Eu nasci em: Vietnã\n",
            "Eu nasci em: Cuba\n"
          ]
        }
      ]
    },
    {
      "cell_type": "code",
      "source": [
        "#return\n",
        "def imc(peso, altura):\n",
        "  return peso/altura**2\n"
      ],
      "metadata": {
        "id": "dVV09753Bk2e"
      },
      "execution_count": null,
      "outputs": []
    },
    {
      "cell_type": "code",
      "source": [
        "def situacaoPeso(imc):\n",
        "  if(imc < 18.5):\n",
        "    print('Abaixo do normal')\n",
        "  elif(imc < 24.9):\n",
        "    print('Peso normal')\n",
        "  else:\n",
        "    print('Obesidade')\n",
        "\n",
        "situacaoPeso(imc(50, 1.54))"
      ],
      "metadata": {
        "colab": {
          "base_uri": "https://localhost:8080/"
        },
        "id": "CnujrbInC_cC",
        "outputId": "bfb71781-a49b-4118-aa5f-9985c7da0213"
      },
      "execution_count": null,
      "outputs": [
        {
          "output_type": "stream",
          "name": "stdout",
          "text": [
            "Peso normal\n"
          ]
        }
      ]
    },
    {
      "cell_type": "code",
      "source": [
        "#Exercício: Faça as quatro operações.\n",
        "#Soma\n",
        "def soma(a, b):\n",
        "  return a + b\n",
        "\n",
        "#Subtração\n",
        "def subtracao(a,b):\n",
        "  return a - b\n",
        "\n",
        "#Multiplicação\n",
        "def vezes(a, b):\n",
        "  return a * b\n",
        "\n",
        "#Divisão\n",
        "def divisao(a, b):\n",
        "  return a / b"
      ],
      "metadata": {
        "id": "tgti7xHyEoVq"
      },
      "execution_count": null,
      "outputs": []
    },
    {
      "cell_type": "code",
      "source": [
        "#O cálculo de juros simples é dado pela fórmula\n",
        "# J = C * i * t\n",
        "# Sendo:\n",
        "# J = juros simples\n",
        "# C = capital inicial\n",
        "# i = taxa de juros\n",
        "# t = tempo de aplicação\n",
        "#Crie uma função que recebe um valor de empréstimo e o\n",
        "#tempo e retorne quanto será pago de juros ao final do período\n",
        "#use uma taxa de juros de 2.5%\n"
      ],
      "metadata": {
        "id": "uKbSkDfrHAnv"
      },
      "execution_count": null,
      "outputs": []
    },
    {
      "cell_type": "code",
      "source": [
        "#Exercício 2.\n",
        "def jurosSimples(valor, tempo):\n",
        "  return valor * 0.025 * tempo\n",
        "\n",
        "def simulacao(capital, juros):\n",
        "  return juros + capital\n",
        "     \n",
        "\n",
        "valorEmprestimo = float(input('Digite o valor do empréstimo: '))\n",
        "tempo = float(input('Digite o tempo do empréstimo: '))\n",
        "juros = jurosSimples(valorEmprestimo, tempo)\n",
        "\n",
        "simulacao(valorEmprestimo, juros)"
      ],
      "metadata": {
        "id": "jH-MZ9a0gQbi"
      },
      "execution_count": null,
      "outputs": []
    },
    {
      "cell_type": "code",
      "source": [
        "#1 - Escreva uma função que Recebe uma lista de strings e retorna:\n",
        "  ## apenas as palavras que começam com a letra A\n",
        "  ## imprime a quantidade de palavras encontradas\n",
        "#2 - Escreva uma função que receba uma lista de números e retorne o produto desses números.\n",
        "#3 - Escreva uma função que receba uma lista de números e retorne a soma dos números pares.\n",
        "#4 - Função rebe uma lista de nomes, e retorna a string com o maior número de caracteres.\n",
        "     \n"
      ],
      "metadata": {
        "id": "KwfTJhhl74vg"
      },
      "execution_count": null,
      "outputs": []
    },
    {
      "cell_type": "code",
      "source": [
        "frutas = ['banana', 'abacaxi', 'abacate', 'goiaba', 'uva', 'jaca', 'acerola']\n",
        "\n",
        "def iniciaComA(lista):\n",
        "  wordA = []\n",
        "  for f in frutas:\n",
        "    if(f[0] == 'a'):\n",
        "      wordA.append(f)\n",
        "  print(len(wordA), 'palavras encontradas iniciando com a letra \"a\":')\n",
        "  return wordA\n",
        "\n",
        "iniciaComA(frutas)"
      ],
      "metadata": {
        "id": "CKdVtuuxOEWM"
      },
      "execution_count": null,
      "outputs": []
    },
    {
      "cell_type": "code",
      "source": [
        "#2 - Escreva uma função que receba uma lista de números e retorne o produto desses números\n",
        "nums = [4, 3, 2, 14, 3, 2, 3, 2, 1, 3, 4, 4]\n",
        "\n",
        "def produtoNumeros(numeros):\n",
        "  produto = 1\n",
        "  for numero in numeros:\n",
        "    produto *= numero\n",
        "  return produto\n",
        "\n",
        "def somaPares(numeros):\n",
        "  soma = 0\n",
        "  for n in numeros:\n",
        "    if(n % 2 == 0):\n",
        "      soma += n\n",
        "  return soma\n",
        "\n",
        "print(produtoNumeros(nums))\n",
        "print(somaPares(nums))"
      ],
      "metadata": {
        "id": "Bxiqw8cHOPhZ"
      },
      "execution_count": null,
      "outputs": []
    },
    {
      "cell_type": "code",
      "source": [
        "#4 - Função recebe uma lista de nomes, e retorna a \n",
        "#string com o maior número de caracteres.\n",
        "users = ['zeca', 'anastacio', 'josefina', 'ivo Manoel da Silva', 'amaralin']\n",
        "\n",
        "def maiorString(users):\n",
        "  maior = ''\n",
        "  for u in users:\n",
        "    if(len(u) >= len(maior)):\n",
        "      maior = u\n",
        "  return maior\n",
        "\n",
        "maiorString(users)"
      ],
      "metadata": {
        "id": "WCz325drObWl"
      },
      "execution_count": null,
      "outputs": []
    },
    {
      "cell_type": "code",
      "source": [
        "#Recursão\n",
        "#'Recursividade' é um termo usado de maneira mais geral para descrever o processo de repetição de um objeto de um jeito similar ao que já fora mostrado. Um bom exemplo disso são as imagens repetidas que aparecem quando dois espelhos são apontados um para o outro.\n",
        "#Cálculo de fatorial:\n",
        "# O fatorial de um número é o produto dele pelos seus antecessores maiores que 0:\n",
        "#Por exemplo, o fatorial de 6 é: 6! = 6*5*4*3*2*1.\n",
        "def fatorial(n):\n",
        "  if(n <= 1):\n",
        "    return 1\n",
        "  else:\n",
        "    return n * fatorial(n-1)\n",
        "\n",
        "print(fatorial(0))\n",
        "print(fatorial(1))\n",
        "print(fatorial(3))\n",
        "print(fatorial(4))   \n",
        "print(fatorial(12))"
      ],
      "metadata": {
        "id": "5Tv-eX7uObY5"
      },
      "execution_count": null,
      "outputs": []
    },
    {
      "cell_type": "code",
      "source": [
        "#Funções Lambda\n",
        "\n",
        "#Reescrevendo a função dobro, como função lambda\n",
        "dobroLam = lambda num : num * 2\n",
        "     \n",
        "\n",
        "dobroLam(67)"
      ],
      "metadata": {
        "id": "Pl9gzfqBTVde"
      },
      "execution_count": null,
      "outputs": []
    },
    {
      "cell_type": "code",
      "source": [
        "#Reescreva as funções a seguir como funções lambda\n",
        "def soma(num1, num2):\n",
        "  return num1 + num2\n",
        "#VersãoLambda\n",
        "somaLam = lambda a, b : a+b\n",
        "\n",
        "def media (nota1, nota2, nota3):\n",
        "  return (nota1+nota2+nota3)/3\n",
        "#versão Lambda\n",
        "mediaLam =lambda a, b, c : (a+b+c)/3\n",
        "\n",
        "def imc(peso, altura):\n",
        "  return peso/altura**2\n",
        "#Versão Lambda\n",
        "imcLam = lambda p, a: p/a**2\n",
        "print(imcLam(80, 1.7))\n",
        "     "
      ],
      "metadata": {
        "id": "TN3X3_kWTZYd"
      },
      "execution_count": null,
      "outputs": []
    },
    {
      "cell_type": "code",
      "source": [
        "#Usando com a função filter\n",
        "notas = [8, 9, 4, 5.5, 3, 7, 9.5, 7.3]\n",
        "conceitos=[2, 4, 7, 10, 8]\n",
        "     \n",
        "\n",
        "def aprovados(nota):\n",
        "  return nota >= 7\n",
        "\n",
        "listAprovados = list(filter(aprovados, conceitos))\n",
        "\n",
        "listAprovados\n"
      ],
      "metadata": {
        "id": "Ra6p1AJfeqJ8"
      },
      "execution_count": null,
      "outputs": []
    },
    {
      "cell_type": "code",
      "source": [
        "listAprovados2 = list(filter(lambda nota : nota >= 7, notas))\n",
        "\n",
        "listAprovados2\n",
        "     "
      ],
      "metadata": {
        "id": "S99ESVeJeunC"
      },
      "execution_count": null,
      "outputs": []
    },
    {
      "cell_type": "code",
      "source": [
        "nums = [4, 3, 2, 14, 3, 2, 3, 2, 1, 3, 4, 4]\n",
        "numeros = [2, 3, 4, 6, 7, 4, 32, 2]\n",
        "\n",
        "numerosPares = list(filter(lambda num : num%2 == 0, numeros))\n",
        "sum(numerosPares)\n",
        "     "
      ],
      "metadata": {
        "id": "GBY8AEUFevXY"
      },
      "execution_count": null,
      "outputs": []
    },
    {
      "cell_type": "code",
      "source": [
        "#Exercício:\n",
        "#Tentar reescrever todas as funções que foram criadas anteriormente, na forma de funções Lambda."
      ],
      "metadata": {
        "id": "jXLbZXs8fwww"
      },
      "execution_count": null,
      "outputs": []
    }
  ]
}