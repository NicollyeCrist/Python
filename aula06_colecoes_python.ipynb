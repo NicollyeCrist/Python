{
  "nbformat": 4,
  "nbformat_minor": 0,
  "metadata": {
    "colab": {
      "provenance": [],
      "authorship_tag": "ABX9TyMQdR0Qk62gmVtQzryvNfLZ",
      "include_colab_link": true
    },
    "kernelspec": {
      "name": "python3",
      "display_name": "Python 3"
    },
    "language_info": {
      "name": "python"
    }
  },
  "cells": [
    {
      "cell_type": "markdown",
      "metadata": {
        "id": "view-in-github",
        "colab_type": "text"
      },
      "source": [
        "<a href=\"https://colab.research.google.com/github/NicollyeCrist/Python/blob/main/aula06_colecoes_python.ipynb\" target=\"_parent\"><img src=\"https://colab.research.google.com/assets/colab-badge.svg\" alt=\"Open In Colab\"/></a>"
      ]
    },
    {
      "cell_type": "code",
      "execution_count": null,
      "metadata": {
        "id": "sZeS4s_9yoBQ"
      },
      "outputs": [],
      "source": [
        "#Coleções em Python\n",
        "\n",
        "#Listas\n",
        "#Ordenadas e mutáveis"
      ]
    },
    {
      "cell_type": "code",
      "source": [
        "#Adicionando elementos ás listas\n",
        "\n",
        "#um valor\n",
        "nomes = ['Ze','tiao','joaquim']\n",
        "nomes.append('Julia')\n",
        "\n",
        "#vários valores\n",
        "outrosNomes = ['Ana','Zabé','Maria']\n",
        "nomes.extend(outrosNomes)\n",
        "nomes"
      ],
      "metadata": {
        "colab": {
          "base_uri": "https://localhost:8080/"
        },
        "id": "nFW6OlBU70ac",
        "outputId": "d8e07fb2-9f82-4abb-bbc9-bfc8acdb98c5"
      },
      "execution_count": null,
      "outputs": [
        {
          "output_type": "execute_result",
          "data": {
            "text/plain": [
              "['Ze', 'tiao', 'joaquim', 'Julia', 'Ana', 'Zabé', 'Maria']"
            ]
          },
          "metadata": {},
          "execution_count": 3
        }
      ]
    },
    {
      "cell_type": "code",
      "source": [
        "#Remoção de elementos\n",
        "#remove.() - Remove o primeiro elemento\n",
        "#pop.() - Remove o último elemento\n",
        "\n",
        "#Crie uma lista de números e\n",
        "numeros = [2, 4, 7, 8, 9, 12] \n",
        "#Remova o primeiro elemento da lista\n",
        "numeros.remove(numeros[0])\n",
        "#remoca o último elemento da lista\n",
        "numeros.pop()\n",
        "\n",
        "numeros"
      ],
      "metadata": {
        "colab": {
          "base_uri": "https://localhost:8080/"
        },
        "id": "t7tEs_Hc88GF",
        "outputId": "6a4c16aa-81c9-4b41-b96f-25261b1350a3"
      },
      "execution_count": null,
      "outputs": [
        {
          "output_type": "execute_result",
          "data": {
            "text/plain": [
              "[4, 7, 8, 9]"
            ]
          },
          "metadata": {},
          "execution_count": 4
        }
      ]
    },
    {
      "cell_type": "code",
      "source": [
        "#Ordenação de ELementos\n",
        "#lista.sort() - ordena em ordem crescente\n",
        "#lista.sort(reverse=True) - ordena em ordem decrescente\n",
        "\n",
        "#1 - Crie ma lista de notas, e exiba-a da menor para a maior nota\n",
        "notas = [2, 10, 6, 7, 3, 5]\n",
        "nomes = ['Ademar','Maristênio', 'Asdrúbal', 'Leo']\n",
        "notas.sort()\n",
        "nomes.sort(reverse=True)\n",
        "\n",
        "#2 -Crie uma lista de nomes de frutas e ordene-a em ordem descrescente\n",
        "\n",
        "nomes\n"
      ],
      "metadata": {
        "colab": {
          "base_uri": "https://localhost:8080/"
        },
        "id": "qyEJjNn7_gi4",
        "outputId": "db007200-941a-4669-f0ab-dcaaa2627e6f"
      },
      "execution_count": null,
      "outputs": [
        {
          "output_type": "execute_result",
          "data": {
            "text/plain": [
              "['Maristênio', 'Leo', 'Asdrúbal', 'Ademar']"
            ]
          },
          "metadata": {},
          "execution_count": 8
        }
      ]
    },
    {
      "cell_type": "code",
      "source": [
        "#Exemplo função map - cria uma nova lista com o dobro\n",
        "numeros = [2, 4, 6, 3]\n",
        "nova_lista = list(map(lambda x : x*2, numeros))\n",
        "nova_lista"
      ],
      "metadata": {
        "colab": {
          "base_uri": "https://localhost:8080/"
        },
        "id": "Hw9b6eagBQQv",
        "outputId": "c6595b20-9ad9-478a-de9e-1fb591e602f5"
      },
      "execution_count": null,
      "outputs": [
        {
          "output_type": "execute_result",
          "data": {
            "text/plain": [
              "[4, 8, 12, 6]"
            ]
          },
          "metadata": {},
          "execution_count": 10
        }
      ]
    },
    {
      "cell_type": "code",
      "source": [
        "#pegar cada um dos números e dividir por 3\n",
        "numDivi = list(map(lambda x : x/3, numeros))\n",
        "numDivi"
      ],
      "metadata": {
        "colab": {
          "base_uri": "https://localhost:8080/"
        },
        "id": "-eDY-lU1C93F",
        "outputId": "795d23cb-d614-47e1-e906-58d59937329d"
      },
      "execution_count": null,
      "outputs": [
        {
          "output_type": "execute_result",
          "data": {
            "text/plain": [
              "[0.6666666666666666, 1.3333333333333333, 2.0, 1.0]"
            ]
          },
          "metadata": {},
          "execution_count": 11
        }
      ]
    },
    {
      "cell_type": "code",
      "source": [
        "#Pega cada número e soma 2.\n",
        "numSom = list(map(lambda x : x+2, numeros))\n",
        "numSom"
      ],
      "metadata": {
        "colab": {
          "base_uri": "https://localhost:8080/"
        },
        "id": "ncbjL8SMD_Nz",
        "outputId": "7a8afbbd-3579-43ab-de7f-41f228192a91"
      },
      "execution_count": null,
      "outputs": [
        {
          "output_type": "execute_result",
          "data": {
            "text/plain": [
              "[4, 6, 8, 5]"
            ]
          },
          "metadata": {},
          "execution_count": 12
        }
      ]
    },
    {
      "cell_type": "code",
      "source": [
        "#Exemplo função filter - a partir de uma lista de nomes, criar uma lista de nomes,\n",
        "\n",
        "nomes = ['José', 'Joaquim', 'Sebastião', 'Angélica', 'Leonardo']\n",
        "\n",
        "new_list = list(filter(lambda x : len(x)>5, nomes))\n",
        "new_list"
      ],
      "metadata": {
        "colab": {
          "base_uri": "https://localhost:8080/"
        },
        "id": "qiHhqG92Etb_",
        "outputId": "c615cda3-1534-402e-d867-22e9d46d607d"
      },
      "execution_count": null,
      "outputs": [
        {
          "output_type": "execute_result",
          "data": {
            "text/plain": [
              "['Joaquim', 'Sebastião', 'Angelica', 'Leonardo']"
            ]
          },
          "metadata": {},
          "execution_count": 15
        }
      ]
    },
    {
      "cell_type": "code",
      "source": [
        "#Crie uma lista de notas, imprime apenas as maiores que 6\n",
        "\n",
        "notas = [3, 7, 8, 6, 9, 10]\n",
        "\n",
        "new_notas = list(filter(lambda x : (x)>6, notas))\n",
        "new_notas"
      ],
      "metadata": {
        "colab": {
          "base_uri": "https://localhost:8080/"
        },
        "id": "Th7foCsCFux6",
        "outputId": "802206b2-2028-465e-c531-321f76a35420"
      },
      "execution_count": null,
      "outputs": [
        {
          "output_type": "execute_result",
          "data": {
            "text/plain": [
              "[7, 8, 9, 10]"
            ]
          },
          "metadata": {},
          "execution_count": 20
        }
      ]
    },
    {
      "cell_type": "code",
      "source": [
        "#Exercícios\n",
        "\n",
        "#Dada uma lista de números, retorne uma lista contendo o quadrado de cada número.\n",
        "\n",
        "numeros01 = [3, 4, 6, 9, 3, 2]\n",
        "new_num = list(map(lambda x : x**2, numeros01))\n",
        "new_num"
      ],
      "metadata": {
        "colab": {
          "base_uri": "https://localhost:8080/"
        },
        "id": "cmwbp7vsIgd0",
        "outputId": "c0f20286-e73d-40c8-a217-e7de9a364893"
      },
      "execution_count": null,
      "outputs": [
        {
          "output_type": "execute_result",
          "data": {
            "text/plain": [
              "[9, 16, 36, 81, 9, 4]"
            ]
          },
          "metadata": {},
          "execution_count": 21
        }
      ]
    },
    {
      "cell_type": "code",
      "source": [
        "#Dada uma lista de nomes, retorne uma lista contendo o tamanho de cada nome.\n",
        "\n",
        "nomes = ['João', 'Amélia', 'Chris', 'Geovaldo']\n",
        "new_nam = list(map(lambda x : len(x), nomes))\n",
        "new_nam"
      ],
      "metadata": {
        "colab": {
          "base_uri": "https://localhost:8080/"
        },
        "id": "l5y5hiVcJM0p",
        "outputId": "ada4300a-5471-4bca-cf36-1a7c5c46fae9"
      },
      "execution_count": null,
      "outputs": [
        {
          "output_type": "execute_result",
          "data": {
            "text/plain": [
              "[4, 6, 5, 8]"
            ]
          },
          "metadata": {},
          "execution_count": 23
        }
      ]
    },
    {
      "cell_type": "code",
      "source": [
        "#Dada uma lista de números, retorne uma lista contendo apenas os números pares.\n",
        "\n",
        "numeros02 = [ 2, 6, 8, 1, 9, 10]\n",
        "new_num = list(filter(lambda x : (x)%2 == 0, numeros02))\n",
        "new_num"
      ],
      "metadata": {
        "colab": {
          "base_uri": "https://localhost:8080/"
        },
        "id": "cOnreq4AJ_jJ",
        "outputId": "961662f4-ea39-4ba6-a72a-af4d5705bf53"
      },
      "execution_count": null,
      "outputs": [
        {
          "output_type": "execute_result",
          "data": {
            "text/plain": [
              "[2, 6, 8, 10]"
            ]
          },
          "metadata": {},
          "execution_count": 24
        }
      ]
    },
    {
      "cell_type": "code",
      "source": [
        "#Dada uma lista de nomes, retorne uma lista contendo apenas os nomes que começam com a letra \"A\".\n",
        "\n",
        "nomes01 = ['Joaquina', 'Letícia', 'Abigail', 'Hamilton', 'Acastro']\n",
        "new_nam = list(filter(lambda x : x[0]== 'A', nomes01))\n",
        "new_nam"
      ],
      "metadata": {
        "colab": {
          "base_uri": "https://localhost:8080/"
        },
        "id": "ozh4w_RfK-6X",
        "outputId": "b03bdc43-83ee-4b0f-f42a-6b3285a2ecd6"
      },
      "execution_count": null,
      "outputs": [
        {
          "output_type": "execute_result",
          "data": {
            "text/plain": [
              "['Abigail', 'Acastro']"
            ]
          },
          "metadata": {},
          "execution_count": 33
        }
      ]
    },
    {
      "cell_type": "code",
      "source": [
        "#Recebe uma lista com notas de alunos, retorna apenas os aprovados (nota maior ou igual a 7)\n",
        "\n",
        "notas = [7, 4, 8, 9, 10, 3, 2]\n",
        "new_notas = list(filter(lambda x : (x)>=7, notas))\n",
        "new_notas"
      ],
      "metadata": {
        "colab": {
          "base_uri": "https://localhost:8080/"
        },
        "id": "VdLMfMEnLr4m",
        "outputId": "bdcf1dc7-29a0-4772-c13b-af055e060f74"
      },
      "execution_count": null,
      "outputs": [
        {
          "output_type": "execute_result",
          "data": {
            "text/plain": [
              "[7, 8, 9, 10]"
            ]
          },
          "metadata": {},
          "execution_count": 26
        }
      ]
    },
    {
      "cell_type": "code",
      "source": [
        "#Recebe uma lista de nomes, retorna apenas os que começam com vogal.\n",
        "\n",
        "nomes02 = ['Castro', 'Otto', 'Fernando', 'Perez', 'Uberval']\n",
        "new_nam = list(filter(lambda x : x[0].upper() in 'AEIOU', nomes02))\n",
        "new_nam\n"
      ],
      "metadata": {
        "colab": {
          "base_uri": "https://localhost:8080/"
        },
        "id": "KFuSrO_UMHD_",
        "outputId": "8251d347-dc79-4e8f-8893-724ff4650dd8"
      },
      "execution_count": null,
      "outputs": [
        {
          "output_type": "execute_result",
          "data": {
            "text/plain": [
              "['Otto', 'Uberval']"
            ]
          },
          "metadata": {},
          "execution_count": 31
        }
      ]
    },
    {
      "cell_type": "code",
      "source": [
        "#Escreva uma função que recebe uma lista de números e retorna uma nova lista contendo apenas os números que são divisíveis por 3 e 5.\n",
        "\n",
        "numeros = [ 2, 14, 15, 20, 5, 3]\n",
        "new_num = list(filter(lambda x : (x)%3 == 0 and (x)%5 == 0, numeros ))\n",
        "new_num"
      ],
      "metadata": {
        "colab": {
          "base_uri": "https://localhost:8080/"
        },
        "id": "_c-t2352OGdN",
        "outputId": "71b67ed2-93b7-4146-9e2e-dc81b66121a1"
      },
      "execution_count": null,
      "outputs": [
        {
          "output_type": "execute_result",
          "data": {
            "text/plain": [
              "[15]"
            ]
          },
          "metadata": {},
          "execution_count": 34
        }
      ]
    },
    {
      "cell_type": "code",
      "source": [
        "#Escreva uma função que recebe uma lista de strings e retorna uma nova lista contendo apenas as strings que começam com uma letra maiúscula.\n",
        "\n",
        "nomes = ['zangão', 'Zico', 'ameixa', 'Flamengo', 'fanta', 'unha', 'ovo']\n",
        "\n",
        "new_List = list(filter(lambda x : x[0].isupper(), nomes))\n",
        "\n",
        "new_List"
      ],
      "metadata": {
        "colab": {
          "base_uri": "https://localhost:8080/"
        },
        "id": "mAE7ODlhO1XU",
        "outputId": "60228721-58de-44eb-e6ba-249ee4aaeb55"
      },
      "execution_count": null,
      "outputs": [
        {
          "output_type": "execute_result",
          "data": {
            "text/plain": [
              "['W', 'A', 'J', 'K']"
            ]
          },
          "metadata": {},
          "execution_count": 37
        }
      ]
    },
    {
      "cell_type": "code",
      "source": [
        "#Recebe uma lista de strings, e retorna uma lista apenas com as iniciais de cada string.\n",
        "\n",
        "iniciais = list(map(lambda x : x[0], nomes))\n",
        "\n",
        "iniciais"
      ],
      "metadata": {
        "colab": {
          "base_uri": "https://localhost:8080/"
        },
        "id": "-cPDHnbmPWhU",
        "outputId": "bb770fa3-1599-4b80-8853-b9df4396788c"
      },
      "execution_count": null,
      "outputs": [
        {
          "output_type": "execute_result",
          "data": {
            "text/plain": [
              "['W', 'A', 'J', 'K']"
            ]
          },
          "metadata": {},
          "execution_count": 38
        }
      ]
    },
    {
      "cell_type": "code",
      "source": [
        "#Escreva uma função que recebe uma lista de números e retorna uma nova lista contendo apenas os números pares elevados ao quadrado.\n",
        "\n",
        "numeros = [12, 32, 62, 11, 18, 24]\n",
        "new_num = list(filter(lambda x : (x)%2 == 0 and (x)**2, numeros))\n",
        "new_num"
      ],
      "metadata": {
        "colab": {
          "base_uri": "https://localhost:8080/"
        },
        "id": "dM2VFf3rQAot",
        "outputId": "6006acb6-906a-4c5f-9cc3-9e76ae0ea741"
      },
      "execution_count": null,
      "outputs": [
        {
          "output_type": "execute_result",
          "data": {
            "text/plain": [
              "[12, 32, 62, 18, 24]"
            ]
          },
          "metadata": {},
          "execution_count": 36
        }
      ]
    }
  ]
}